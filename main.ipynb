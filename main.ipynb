{
 "cells": [
  {
   "cell_type": "code",
   "execution_count": 10,
   "metadata": {},
   "outputs": [],
   "source": [
    "import torch\n",
    "import torchvision\n",
    "import torchvision.transforms.v2 as v2\n",
    "import torch.optim as optim\n",
    "import torch.nn as nn\n",
    "from tqdm import tqdm\n",
    "from torch.utils.data import random_split\n"
   ]
  },
  {
   "cell_type": "code",
   "execution_count": 11,
   "metadata": {},
   "outputs": [
    {
     "name": "stdout",
     "output_type": "stream",
     "text": [
      "cuda\n"
     ]
    }
   ],
   "source": [
    "device = 'cuda' if torch.cuda.is_available() else 'cpu'\n",
    "print(device)"
   ]
  },
  {
   "cell_type": "code",
   "execution_count": 12,
   "metadata": {},
   "outputs": [
    {
     "name": "stderr",
     "output_type": "stream",
     "text": [
      "C:\\Users\\abobantai\\AppData\\Roaming\\Python\\Python39\\site-packages\\torchvision\\transforms\\v2\\_deprecated.py:42: UserWarning: The transform `ToTensor()` is deprecated and will be removed in a future release. Instead, please use `v2.Compose([v2.ToImage(), v2.ToDtype(torch.float32, scale=True)])`.Output is equivalent up to float precision.\n",
      "  warnings.warn(\n"
     ]
    }
   ],
   "source": [
    "transform = v2.Compose([\n",
    "    v2.ToTensor(),\n",
    "    v2.Normalize((0.5,0.5,0.5), (0.5,0.5,0.5))\n",
    "])\n",
    "train_transform = v2.Compose([\n",
    "    v2.RandomHorizontalFlip(),  # Кездейсоқ айналдыру\n",
    "    v2.RandomRotation(10),  # -10° +10° аралығында бұру\n",
    "    v2.RandomCrop(32, padding=4),  # 32x32-ге кездейсоқ кесу\n",
    "    v2.ToTensor(),\n",
    "    v2.Normalize(mean=[0.5], std=[0.5])\n",
    "])\n"
   ]
  },
  {
   "cell_type": "code",
   "execution_count": 13,
   "metadata": {},
   "outputs": [
    {
     "name": "stdout",
     "output_type": "stream",
     "text": [
      "Files already downloaded and verified\n",
      "Files already downloaded and verified\n"
     ]
    }
   ],
   "source": [
    "trainset = torchvision.datasets.CIFAR10(root='C:/Users/abobantai/Desktop/IT/CIFAR-10_PyTorch', download=True, train=True, transform=train_transform)\n",
    "train_data, val_data = random_split(trainset, [0.8, 0.2])\n",
    "train_data = torch.utils.data.DataLoader(train_data, batch_size=64, shuffle=True)\n",
    "val_data = torch.utils.data.DataLoader(val_data, shuffle=True, batch_size= 64)\n",
    "val_data.dataset.transform = transform\n",
    "testset = torchvision.datasets.CIFAR10(root='C:/Users/abobantai/Desktop/IT/CIFAR-10_PyTorch', download=True, train=False, transform=transform)\n",
    "test_data = torch.utils.data.DataLoader(testset, batch_size=64, shuffle=False)"
   ]
  },
  {
   "cell_type": "code",
   "execution_count": 14,
   "metadata": {},
   "outputs": [],
   "source": [
    "class MyModel(nn.Module):\n",
    "    def __init__(self, in_channels, output):\n",
    "        super().__init__()\n",
    "        self.conv = nn.Sequential(\n",
    "            nn.Conv2d(in_channels, 32, 3, bias=True),\n",
    "            nn.ReLU(),\n",
    "            nn.MaxPool2d(stride=2, kernel_size=2),\n",
    "            nn.Conv2d(32, 64, 3, bias=True),\n",
    "            nn.ReLU(),\n",
    "            nn.MaxPool2d(stride=2, kernel_size=2),\n",
    "        )\n",
    "        self.flat = nn.Flatten()\n",
    "        self.fc = nn.Sequential(\n",
    "            nn.Linear(2304, 512),\n",
    "            nn.ReLU(),\n",
    "            nn.Dropout(0.7),\n",
    "            nn.Linear(512, 10)\n",
    "        )\n",
    "    def forward(self, x):\n",
    "        x = self.conv(x)\n",
    "        x = self.flat(x)\n",
    "        x = self.fc(x)\n",
    "        return x\n",
    "model = MyModel(3, 10).to(device)\n"
   ]
  },
  {
   "cell_type": "code",
   "execution_count": 15,
   "metadata": {},
   "outputs": [],
   "source": [
    "optimizer = optim.Adam(model.parameters(), lr=0.001, weight_decay=1e-4)\n",
    "loss_model = nn.CrossEntropyLoss()\n",
    "scheduler = torch.optim.lr_scheduler.ReduceLROnPlateau(optimizer, factor=0.1,patience=4)"
   ]
  },
  {
   "cell_type": "code",
   "execution_count": 16,
   "metadata": {},
   "outputs": [],
   "source": [
    "epochs = 50\n",
    "count_without_best_metrics = 0\n",
    "train_loss = []\n",
    "train_acc = []\n",
    "val_loss = []\n",
    "val_acc = []\n",
    "lr_list = []\n",
    "best_loss = None\n"
   ]
  },
  {
   "cell_type": "code",
   "execution_count": 17,
   "metadata": {},
   "outputs": [
    {
     "name": "stderr",
     "output_type": "stream",
     "text": [
      "                                                                                                                                   \r"
     ]
    },
    {
     "name": "stdout",
     "output_type": "stream",
     "text": [
      "epoch [1/50], train_loss = 1.7383, train_acc = 0.3548, val_loss = 1.4993, val_acc = 0.4494, lr = 0.001\n"
     ]
    },
    {
     "name": "stderr",
     "output_type": "stream",
     "text": [
      "                                                                                                                                   \r"
     ]
    },
    {
     "name": "stdout",
     "output_type": "stream",
     "text": [
      "epoch [2/50], train_loss = 1.4835, train_acc = 0.4593, val_loss = 1.3247, val_acc = 0.5205, lr = 0.001\n",
      "checkpoint on epoch 2 with best val metrics: 1.324748\n"
     ]
    },
    {
     "name": "stderr",
     "output_type": "stream",
     "text": [
      "                                                                                                                                   \r"
     ]
    },
    {
     "name": "stdout",
     "output_type": "stream",
     "text": [
      "epoch [3/50], train_loss = 1.3823, train_acc = 0.5004, val_loss = 1.2877, val_acc = 0.5424, lr = 0.001\n",
      "checkpoint on epoch 3 with best val metrics: 1.287681\n"
     ]
    },
    {
     "name": "stderr",
     "output_type": "stream",
     "text": [
      "                                                                                                                                   \r"
     ]
    },
    {
     "name": "stdout",
     "output_type": "stream",
     "text": [
      "epoch [4/50], train_loss = 1.3139, train_acc = 0.5256, val_loss = 1.1884, val_acc = 0.5795, lr = 0.001\n",
      "checkpoint on epoch 4 with best val metrics: 1.188360\n"
     ]
    },
    {
     "name": "stderr",
     "output_type": "stream",
     "text": [
      "                                                                                                                                   \r"
     ]
    },
    {
     "name": "stdout",
     "output_type": "stream",
     "text": [
      "epoch [5/50], train_loss = 1.2665, train_acc = 0.5466, val_loss = 1.1514, val_acc = 0.5872, lr = 0.001\n",
      "checkpoint on epoch 5 with best val metrics: 1.151416\n"
     ]
    },
    {
     "name": "stderr",
     "output_type": "stream",
     "text": [
      "                                                                                                                                   \r"
     ]
    },
    {
     "name": "stdout",
     "output_type": "stream",
     "text": [
      "epoch [6/50], train_loss = 1.2324, train_acc = 0.5627, val_loss = 1.1042, val_acc = 0.6063, lr = 0.001\n",
      "checkpoint on epoch 6 with best val metrics: 1.104211\n"
     ]
    },
    {
     "name": "stderr",
     "output_type": "stream",
     "text": [
      "                                                                                                                                   \r"
     ]
    },
    {
     "name": "stdout",
     "output_type": "stream",
     "text": [
      "epoch [7/50], train_loss = 1.1964, train_acc = 0.5733, val_loss = 1.0959, val_acc = 0.6037, lr = 0.001\n",
      "checkpoint on epoch 7 with best val metrics: 1.095863\n"
     ]
    },
    {
     "name": "stderr",
     "output_type": "stream",
     "text": [
      "                                                                                                                                   \r"
     ]
    },
    {
     "name": "stdout",
     "output_type": "stream",
     "text": [
      "epoch [8/50], train_loss = 1.1739, train_acc = 0.5837, val_loss = 1.0547, val_acc = 0.6267, lr = 0.001\n",
      "checkpoint on epoch 8 with best val metrics: 1.054691\n"
     ]
    },
    {
     "name": "stderr",
     "output_type": "stream",
     "text": [
      "                                                                                                                                   \r"
     ]
    },
    {
     "name": "stdout",
     "output_type": "stream",
     "text": [
      "epoch [9/50], train_loss = 1.1555, train_acc = 0.5898, val_loss = 1.0206, val_acc = 0.6365, lr = 0.001\n",
      "checkpoint on epoch 9 with best val metrics: 1.020595\n"
     ]
    },
    {
     "name": "stderr",
     "output_type": "stream",
     "text": [
      "                                                                                                                                    \r"
     ]
    },
    {
     "name": "stdout",
     "output_type": "stream",
     "text": [
      "epoch [10/50], train_loss = 1.1330, train_acc = 0.5988, val_loss = 1.0390, val_acc = 0.6303, lr = 0.001\n"
     ]
    },
    {
     "name": "stderr",
     "output_type": "stream",
     "text": [
      "                                                                                                                                    \r"
     ]
    },
    {
     "name": "stdout",
     "output_type": "stream",
     "text": [
      "epoch [11/50], train_loss = 1.1231, train_acc = 0.6051, val_loss = 1.0411, val_acc = 0.6275, lr = 0.001\n"
     ]
    },
    {
     "name": "stderr",
     "output_type": "stream",
     "text": [
      "                                                                                                                                    \r"
     ]
    },
    {
     "name": "stdout",
     "output_type": "stream",
     "text": [
      "epoch [12/50], train_loss = 1.1030, train_acc = 0.6118, val_loss = 0.9889, val_acc = 0.6520, lr = 0.001\n",
      "checkpoint on epoch 12 with best val metrics: 0.988895\n"
     ]
    },
    {
     "name": "stderr",
     "output_type": "stream",
     "text": [
      "                                                                                                                                    \r"
     ]
    },
    {
     "name": "stdout",
     "output_type": "stream",
     "text": [
      "epoch [13/50], train_loss = 1.0799, train_acc = 0.6222, val_loss = 0.9817, val_acc = 0.6586, lr = 0.001\n",
      "checkpoint on epoch 13 with best val metrics: 0.981668\n"
     ]
    },
    {
     "name": "stderr",
     "output_type": "stream",
     "text": [
      "                                                                                                                                    \r"
     ]
    },
    {
     "name": "stdout",
     "output_type": "stream",
     "text": [
      "epoch [14/50], train_loss = 1.0686, train_acc = 0.6239, val_loss = 0.9805, val_acc = 0.6537, lr = 0.001\n",
      "checkpoint on epoch 14 with best val metrics: 0.980504\n"
     ]
    },
    {
     "name": "stderr",
     "output_type": "stream",
     "text": [
      "                                                                                                                                    \r"
     ]
    },
    {
     "name": "stdout",
     "output_type": "stream",
     "text": [
      "epoch [15/50], train_loss = 1.0682, train_acc = 0.6259, val_loss = 0.9680, val_acc = 0.6640, lr = 0.001\n",
      "checkpoint on epoch 15 with best val metrics: 0.967967\n"
     ]
    },
    {
     "name": "stderr",
     "output_type": "stream",
     "text": [
      "                                                                                                                                    \r"
     ]
    },
    {
     "name": "stdout",
     "output_type": "stream",
     "text": [
      "epoch [16/50], train_loss = 1.0501, train_acc = 0.6283, val_loss = 0.9405, val_acc = 0.6684, lr = 0.001\n",
      "checkpoint on epoch 16 with best val metrics: 0.940482\n"
     ]
    },
    {
     "name": "stderr",
     "output_type": "stream",
     "text": [
      "                                                                                                                                    \r"
     ]
    },
    {
     "name": "stdout",
     "output_type": "stream",
     "text": [
      "epoch [17/50], train_loss = 1.0393, train_acc = 0.6316, val_loss = 0.9547, val_acc = 0.6653, lr = 0.001\n"
     ]
    },
    {
     "name": "stderr",
     "output_type": "stream",
     "text": [
      "                                                                                                                                    \r"
     ]
    },
    {
     "name": "stdout",
     "output_type": "stream",
     "text": [
      "epoch [18/50], train_loss = 1.0334, train_acc = 0.6397, val_loss = 0.9322, val_acc = 0.6791, lr = 0.001\n",
      "checkpoint on epoch 18 with best val metrics: 0.932206\n"
     ]
    },
    {
     "name": "stderr",
     "output_type": "stream",
     "text": [
      "                                                                                                                                    \r"
     ]
    },
    {
     "name": "stdout",
     "output_type": "stream",
     "text": [
      "epoch [19/50], train_loss = 1.0249, train_acc = 0.6410, val_loss = 0.9083, val_acc = 0.6759, lr = 0.001\n",
      "checkpoint on epoch 19 with best val metrics: 0.908314\n"
     ]
    },
    {
     "name": "stderr",
     "output_type": "stream",
     "text": [
      "                                                                                                                                    \r"
     ]
    },
    {
     "name": "stdout",
     "output_type": "stream",
     "text": [
      "epoch [20/50], train_loss = 1.0184, train_acc = 0.6440, val_loss = 0.9295, val_acc = 0.6808, lr = 0.001\n"
     ]
    },
    {
     "name": "stderr",
     "output_type": "stream",
     "text": [
      "                                                                                                                                    \r"
     ]
    },
    {
     "name": "stdout",
     "output_type": "stream",
     "text": [
      "epoch [21/50], train_loss = 1.0014, train_acc = 0.6479, val_loss = 0.9101, val_acc = 0.6835, lr = 0.001\n"
     ]
    },
    {
     "name": "stderr",
     "output_type": "stream",
     "text": [
      "                                                                                                                                    \r"
     ]
    },
    {
     "name": "stdout",
     "output_type": "stream",
     "text": [
      "epoch [22/50], train_loss = 1.0052, train_acc = 0.6474, val_loss = 0.9047, val_acc = 0.6819, lr = 0.001\n",
      "checkpoint on epoch 22 with best val metrics: 0.904666\n"
     ]
    },
    {
     "name": "stderr",
     "output_type": "stream",
     "text": [
      "                                                                                                                                    \r"
     ]
    },
    {
     "name": "stdout",
     "output_type": "stream",
     "text": [
      "epoch [23/50], train_loss = 0.9981, train_acc = 0.6501, val_loss = 0.8955, val_acc = 0.6866, lr = 0.001\n",
      "checkpoint on epoch 23 with best val metrics: 0.895453\n"
     ]
    },
    {
     "name": "stderr",
     "output_type": "stream",
     "text": [
      "                                                                                                                                    \r"
     ]
    },
    {
     "name": "stdout",
     "output_type": "stream",
     "text": [
      "epoch [24/50], train_loss = 0.9875, train_acc = 0.6527, val_loss = 0.9156, val_acc = 0.6780, lr = 0.001\n"
     ]
    },
    {
     "name": "stderr",
     "output_type": "stream",
     "text": [
      "                                                                                                                                    \r"
     ]
    },
    {
     "name": "stdout",
     "output_type": "stream",
     "text": [
      "epoch [25/50], train_loss = 0.9842, train_acc = 0.6573, val_loss = 0.8877, val_acc = 0.6869, lr = 0.001\n",
      "checkpoint on epoch 25 with best val metrics: 0.887693\n"
     ]
    },
    {
     "name": "stderr",
     "output_type": "stream",
     "text": [
      "                                                                                                                                    \r"
     ]
    },
    {
     "name": "stdout",
     "output_type": "stream",
     "text": [
      "epoch [26/50], train_loss = 0.9758, train_acc = 0.6601, val_loss = 0.8897, val_acc = 0.6906, lr = 0.001\n"
     ]
    },
    {
     "name": "stderr",
     "output_type": "stream",
     "text": [
      "                                                                                                                                    \r"
     ]
    },
    {
     "name": "stdout",
     "output_type": "stream",
     "text": [
      "epoch [27/50], train_loss = 0.9728, train_acc = 0.6600, val_loss = 0.8671, val_acc = 0.6957, lr = 0.001\n",
      "checkpoint on epoch 27 with best val metrics: 0.867069\n"
     ]
    },
    {
     "name": "stderr",
     "output_type": "stream",
     "text": [
      "                                                                                                                                    \r"
     ]
    },
    {
     "name": "stdout",
     "output_type": "stream",
     "text": [
      "epoch [28/50], train_loss = 0.9648, train_acc = 0.6627, val_loss = 0.8860, val_acc = 0.6924, lr = 0.001\n"
     ]
    },
    {
     "name": "stderr",
     "output_type": "stream",
     "text": [
      "                                                                                                                                    \r"
     ]
    },
    {
     "name": "stdout",
     "output_type": "stream",
     "text": [
      "epoch [29/50], train_loss = 0.9591, train_acc = 0.6639, val_loss = 0.8684, val_acc = 0.6990, lr = 0.001\n"
     ]
    },
    {
     "name": "stderr",
     "output_type": "stream",
     "text": [
      "                                                                                                                                    \r"
     ]
    },
    {
     "name": "stdout",
     "output_type": "stream",
     "text": [
      "epoch [30/50], train_loss = 0.9592, train_acc = 0.6656, val_loss = 0.8566, val_acc = 0.7036, lr = 0.001\n",
      "checkpoint on epoch 30 with best val metrics: 0.856634\n"
     ]
    },
    {
     "name": "stderr",
     "output_type": "stream",
     "text": [
      "                                                                                                                                    \r"
     ]
    },
    {
     "name": "stdout",
     "output_type": "stream",
     "text": [
      "epoch [31/50], train_loss = 0.9589, train_acc = 0.6649, val_loss = 0.8761, val_acc = 0.6959, lr = 0.001\n"
     ]
    },
    {
     "name": "stderr",
     "output_type": "stream",
     "text": [
      "                                                                                                                                    \r"
     ]
    },
    {
     "name": "stdout",
     "output_type": "stream",
     "text": [
      "epoch [32/50], train_loss = 0.9546, train_acc = 0.6684, val_loss = 0.8619, val_acc = 0.6987, lr = 0.001\n"
     ]
    },
    {
     "name": "stderr",
     "output_type": "stream",
     "text": [
      "                                                                                                                                    \r"
     ]
    },
    {
     "name": "stdout",
     "output_type": "stream",
     "text": [
      "epoch [33/50], train_loss = 0.9459, train_acc = 0.6675, val_loss = 0.8628, val_acc = 0.6992, lr = 0.001\n"
     ]
    },
    {
     "name": "stderr",
     "output_type": "stream",
     "text": [
      "                                                                                                                                    \r"
     ]
    },
    {
     "name": "stdout",
     "output_type": "stream",
     "text": [
      "epoch [34/50], train_loss = 0.9411, train_acc = 0.6712, val_loss = 0.8426, val_acc = 0.7042, lr = 0.001\n",
      "checkpoint on epoch 34 with best val metrics: 0.842562\n"
     ]
    },
    {
     "name": "stderr",
     "output_type": "stream",
     "text": [
      "                                                                                                                                    \r"
     ]
    },
    {
     "name": "stdout",
     "output_type": "stream",
     "text": [
      "epoch [35/50], train_loss = 0.9359, train_acc = 0.6715, val_loss = 0.8414, val_acc = 0.7025, lr = 0.001\n",
      "checkpoint on epoch 35 with best val metrics: 0.841353\n"
     ]
    },
    {
     "name": "stderr",
     "output_type": "stream",
     "text": [
      "                                                                                                                                    \r"
     ]
    },
    {
     "name": "stdout",
     "output_type": "stream",
     "text": [
      "epoch [36/50], train_loss = 0.9332, train_acc = 0.6723, val_loss = 0.8358, val_acc = 0.7131, lr = 0.001\n",
      "checkpoint on epoch 36 with best val metrics: 0.835796\n"
     ]
    },
    {
     "name": "stderr",
     "output_type": "stream",
     "text": [
      "                                                                                                                                    \r"
     ]
    },
    {
     "name": "stdout",
     "output_type": "stream",
     "text": [
      "epoch [37/50], train_loss = 0.9258, train_acc = 0.6754, val_loss = 0.8406, val_acc = 0.7048, lr = 0.001\n"
     ]
    },
    {
     "name": "stderr",
     "output_type": "stream",
     "text": [
      "                                                                                                                                    \r"
     ]
    },
    {
     "name": "stdout",
     "output_type": "stream",
     "text": [
      "epoch [38/50], train_loss = 0.9207, train_acc = 0.6790, val_loss = 0.8573, val_acc = 0.7051, lr = 0.001\n"
     ]
    },
    {
     "name": "stderr",
     "output_type": "stream",
     "text": [
      "                                                                                                                                    \r"
     ]
    },
    {
     "name": "stdout",
     "output_type": "stream",
     "text": [
      "epoch [39/50], train_loss = 0.9204, train_acc = 0.6828, val_loss = 0.8340, val_acc = 0.7050, lr = 0.001\n",
      "checkpoint on epoch 39 with best val metrics: 0.834027\n"
     ]
    },
    {
     "name": "stderr",
     "output_type": "stream",
     "text": [
      "                                                                                                                                    \r"
     ]
    },
    {
     "name": "stdout",
     "output_type": "stream",
     "text": [
      "epoch [40/50], train_loss = 0.9286, train_acc = 0.6778, val_loss = 0.8458, val_acc = 0.7066, lr = 0.001\n"
     ]
    },
    {
     "name": "stderr",
     "output_type": "stream",
     "text": [
      "                                                                                                                                    \r"
     ]
    },
    {
     "name": "stdout",
     "output_type": "stream",
     "text": [
      "epoch [41/50], train_loss = 0.9125, train_acc = 0.6825, val_loss = 0.8339, val_acc = 0.7096, lr = 0.001\n",
      "checkpoint on epoch 41 with best val metrics: 0.833898\n"
     ]
    },
    {
     "name": "stderr",
     "output_type": "stream",
     "text": [
      "                                                                                                                                    \r"
     ]
    },
    {
     "name": "stdout",
     "output_type": "stream",
     "text": [
      "epoch [42/50], train_loss = 0.9146, train_acc = 0.6816, val_loss = 0.8212, val_acc = 0.7185, lr = 0.001\n",
      "checkpoint on epoch 42 with best val metrics: 0.821183\n"
     ]
    },
    {
     "name": "stderr",
     "output_type": "stream",
     "text": [
      "                                                                                                                                    \r"
     ]
    },
    {
     "name": "stdout",
     "output_type": "stream",
     "text": [
      "epoch [43/50], train_loss = 0.9143, train_acc = 0.6819, val_loss = 0.8424, val_acc = 0.7039, lr = 0.001\n"
     ]
    },
    {
     "name": "stderr",
     "output_type": "stream",
     "text": [
      "                                                                                                                                    \r"
     ]
    },
    {
     "name": "stdout",
     "output_type": "stream",
     "text": [
      "epoch [44/50], train_loss = 0.9075, train_acc = 0.6847, val_loss = 0.8644, val_acc = 0.7003, lr = 0.001\n"
     ]
    },
    {
     "name": "stderr",
     "output_type": "stream",
     "text": [
      "                                                                                                                                    \r"
     ]
    },
    {
     "name": "stdout",
     "output_type": "stream",
     "text": [
      "epoch [45/50], train_loss = 0.9065, train_acc = 0.6826, val_loss = 0.8130, val_acc = 0.7176, lr = 0.001\n",
      "checkpoint on epoch 45 with best val metrics: 0.812967\n"
     ]
    },
    {
     "name": "stderr",
     "output_type": "stream",
     "text": [
      "                                                                                                                                    \r"
     ]
    },
    {
     "name": "stdout",
     "output_type": "stream",
     "text": [
      "epoch [46/50], train_loss = 0.9021, train_acc = 0.6855, val_loss = 0.8140, val_acc = 0.7136, lr = 0.001\n"
     ]
    },
    {
     "name": "stderr",
     "output_type": "stream",
     "text": [
      "                                                                                                                                    \r"
     ]
    },
    {
     "name": "stdout",
     "output_type": "stream",
     "text": [
      "epoch [47/50], train_loss = 0.9050, train_acc = 0.6843, val_loss = 0.8135, val_acc = 0.7221, lr = 0.001\n"
     ]
    },
    {
     "name": "stderr",
     "output_type": "stream",
     "text": [
      "                                                                                                                                    \r"
     ]
    },
    {
     "name": "stdout",
     "output_type": "stream",
     "text": [
      "epoch [48/50], train_loss = 0.9071, train_acc = 0.6855, val_loss = 0.8336, val_acc = 0.7141, lr = 0.001\n"
     ]
    },
    {
     "name": "stderr",
     "output_type": "stream",
     "text": [
      "                                                                                                                                    \r"
     ]
    },
    {
     "name": "stdout",
     "output_type": "stream",
     "text": [
      "epoch [49/50], train_loss = 0.8912, train_acc = 0.6904, val_loss = 0.8082, val_acc = 0.7200, lr = 0.001\n",
      "checkpoint on epoch 49 with best val metrics: 0.808227\n"
     ]
    },
    {
     "name": "stderr",
     "output_type": "stream",
     "text": [
      "                                                                                                                                    \r"
     ]
    },
    {
     "name": "stdout",
     "output_type": "stream",
     "text": [
      "epoch [50/50], train_loss = 0.8936, train_acc = 0.6885, val_loss = 0.8273, val_acc = 0.7095, lr = 0.001\n"
     ]
    }
   ],
   "source": [
    "for epoch in range(epochs):\n",
    "    train_loop = tqdm(train_data, leave=False)\n",
    "    model.train()\n",
    "    true_answers = 0\n",
    "    total_answers = 0\n",
    "    running_train_loss = []\n",
    "    for x, target in train_loop:\n",
    "        x = x.to(device)\n",
    "        target = target.reshape(-1).to(torch.int32) # преоброзавание данных для модели\\n\",\n",
    "        target = torch.eye(10)[target].to(device) # преоброзавание правильных ответов на ванхотвектора\\n\",\n",
    "        pred = model(x)\n",
    "        loss = loss_model(pred, target)\n",
    "        optimizer.zero_grad()\n",
    "        loss.backward()\n",
    "        optimizer.step()\n",
    "        true_answers += (pred.argmax(dim=1) == target.argmax(dim=1)).sum().item()\n",
    "        total_answers += len(x)\n",
    "        running_train_loss.append(loss.item())\n",
    "        mean_train_loss = sum(running_train_loss) / len(running_train_loss)\n",
    "        mean_train_acc= true_answers / total_answers\n",
    "        train_loop.set_description(f\"EPOCH: [{epoch+1}], train_loss: [{mean_train_loss:.4f}], train_acc: [{mean_train_acc:.4f}], without_best_metrics: [{count_without_best_metrics}]\")\n",
    "    train_loss.append(mean_train_loss)\n",
    "    train_acc.append(mean_train_acc)\n",
    "    model.eval()\n",
    "    with torch.no_grad():\n",
    "        true_answers = 0\n",
    "        total_answers = 0\n",
    "        running_val_loss = []\n",
    "        for x, target in val_data:\n",
    "            x = x.to(device)\n",
    "            target = target.reshape(-1).to(torch.int32) # преоброзавание данных для модели\\n\",\n",
    "            target = torch.eye(10)[target].to(device) # преоброзавание правильных ответов на ванхотвектора\\n\",\n",
    "            pred = model(x)\n",
    "            loss = loss_model(pred, target)\n",
    "            true_answers += (pred.argmax(dim=1) == target.argmax(dim=1)).sum().item()\n",
    "            total_answers += len(x)\n",
    "            running_val_loss.append(loss.item())\n",
    "            mean_val_loss = sum(running_val_loss) / len(running_val_loss)\n",
    "            mean_val_acc= true_answers / total_answers\n",
    "        val_loss.append(mean_val_loss)\n",
    "        val_acc.append(mean_val_acc)\n",
    "    scheduler.step(mean_val_loss)\n",
    "    lr = scheduler._last_lr[0]\n",
    "    print(f\"epoch [{epoch+1}/{epochs}], train_loss = {mean_train_loss:.4f}, train_acc = {mean_train_acc:.4f}, val_loss = {mean_val_loss:.4f}, val_acc = {mean_val_acc:.4f}, lr = {lr}\")\n",
    "\n",
    "    if best_loss == None:\n",
    "        best_loss = mean_val_loss\n",
    "    if count_without_best_metrics > 10:\n",
    "        print(f'mertvaya tochka epoch: [{epoch}]')\n",
    "        break\n",
    "    if mean_val_loss < best_loss:\n",
    "        best_loss = mean_val_loss\n",
    "        count_without_best_metrics = 0\n",
    "        checkpoint = {\n",
    "            \"state_model\": model.state_dict(),\n",
    "            \"state_optimizer\": optimizer.state_dict(),\n",
    "            \"state_scheduler\": scheduler.state_dict(),\n",
    "            \"loss\": {\n",
    "                \"train_loss\": train_loss,\n",
    "                \"val_loss\": val_loss,\n",
    "                \"best_loss\": best_loss\n",
    "            },\n",
    "            \"metric\":{\n",
    "                \"train_accuracy\": train_acc,\n",
    "                \"val_accuracy\": val_acc\n",
    "            },\n",
    "            \"lr\": lr_list,\n",
    "            \"epoch\": {\n",
    "                \"epochs\": epochs,\n",
    "                \"save_epochs\": epoch\n",
    "            }\n",
    "        }\n",
    "        torch.save(checkpoint, 'checkpoints/model_state_dict.pt')\n",
    "        print(f\"checkpoint on epoch {epoch+1} with best val metrics: {mean_val_loss:.6f}\")\n",
    "    count_without_best_metrics += 1\n",
    "\n",
    "\n",
    "\n"
   ]
  }
 ],
 "metadata": {
  "kernelspec": {
   "display_name": "Python 3",
   "language": "python",
   "name": "python3"
  },
  "language_info": {
   "codemirror_mode": {
    "name": "ipython",
    "version": 3
   },
   "file_extension": ".py",
   "mimetype": "text/x-python",
   "name": "python",
   "nbconvert_exporter": "python",
   "pygments_lexer": "ipython3",
   "version": "3.9.20"
  }
 },
 "nbformat": 4,
 "nbformat_minor": 2
}
