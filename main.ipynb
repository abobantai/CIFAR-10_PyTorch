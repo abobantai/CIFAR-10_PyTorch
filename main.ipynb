{
 "cells": [
  {
   "cell_type": "code",
   "execution_count": 90,
   "metadata": {},
   "outputs": [
    {
     "name": "stderr",
     "output_type": "stream",
     "text": [
      "C:\\Users\\abobantai\\AppData\\Local\\Temp\\ipykernel_20012\\3584028125.py:15: FutureWarning: `torch.cuda.amp.GradScaler(args...)` is deprecated. Please use `torch.amp.GradScaler('cuda', args...)` instead.\n",
      "  scaler = GradScaler()\n"
     ]
    }
   ],
   "source": [
    "import torch\n",
    "import torchvision\n",
    "import torchvision.transforms.v2 as v2\n",
    "import torch.optim as optim\n",
    "import torch.nn as nn\n",
    "from tqdm import tqdm\n",
    "from torch.utils.data import random_split\n",
    "import torch.backends.cudnn as cudnn\n",
    "cudnn.benchmark = True\n",
    "from torch.cuda.amp import autocast, GradScaler\n",
    "from matplotlib import pyplot as plt\n",
    "import torch.nn.functional as F\n",
    "\n",
    "\n",
    "scaler = GradScaler()\n",
    "\n"
   ]
  },
  {
   "cell_type": "code",
   "execution_count": 78,
   "metadata": {},
   "outputs": [
    {
     "name": "stdout",
     "output_type": "stream",
     "text": [
      "cuda\n"
     ]
    }
   ],
   "source": [
    "device = 'cuda' if torch.cuda.is_available() else 'cpu'\n",
    "print(device)"
   ]
  },
  {
   "cell_type": "code",
   "execution_count": 79,
   "metadata": {},
   "outputs": [],
   "source": [
    "transform = v2.Compose([\n",
    "    v2.ToTensor(),\n",
    "    v2.Normalize((0.5,0.5,0.5), (0.5,0.5,0.5))\n",
    "])\n",
    "train_transform = v2.Compose([\n",
    "    v2.RandomCrop(32, padding=4),\n",
    "    v2.RandomHorizontalFlip(),\n",
    "    v2.ColorJitter(brightness=0.2, contrast=0.2, saturation=0.2, hue=0.1),\n",
    "    v2.RandomRotation(10),\n",
    "    v2.RandomAffine(degrees=15, translate=(0.1, 0.1), scale=(0.8, 1.2)),\n",
    "    v2.RandomErasing(p=0.2, scale=(0.02, 0.2), ratio=(0.3, 3.3)),\n",
    "    v2.GaussianBlur(kernel_size=3, sigma=(0.1, 1.0)),\n",
    "    v2.ToTensor(),\n",
    "    v2.Normalize((0.5, 0.5, 0.5), (0.5, 0.5, 0.5))\n",
    "])\n",
    "\n"
   ]
  },
  {
   "cell_type": "code",
   "execution_count": null,
   "metadata": {},
   "outputs": [],
   "source": []
  },
  {
   "cell_type": "code",
   "execution_count": 80,
   "metadata": {},
   "outputs": [
    {
     "name": "stdout",
     "output_type": "stream",
     "text": [
      "Files already downloaded and verified\n",
      "Files already downloaded and verified\n"
     ]
    }
   ],
   "source": [
    "trainset = torchvision.datasets.CIFAR10(root='C:/Users/abobantai/Desktop/IT/CIFAR-10_PyTorch', download=True, train=True, transform=train_transform)\n",
    "train_data, val_data = random_split(trainset, [0.8, 0.2])\n",
    "testset = torchvision.datasets.CIFAR10(root='C:/Users/abobantai/Desktop/IT/CIFAR-10_PyTorch', download=True, train=False, transform=transform)\n"
   ]
  },
  {
   "cell_type": "code",
   "execution_count": 81,
   "metadata": {},
   "outputs": [],
   "source": [
    "train_data = torch.utils.data.DataLoader(train_data, batch_size=512, shuffle=True, num_workers=2, pin_memory=True)\n",
    "val_data = torch.utils.data.DataLoader(val_data, batch_size=512, shuffle=True, num_workers=2, pin_memory=True)\n",
    "test_data = torch.utils.data.DataLoader(testset, batch_size=256, shuffle=False)\n",
    "val_data.dataset.transform = transform\n"
   ]
  },
  {
   "cell_type": "code",
   "execution_count": 82,
   "metadata": {},
   "outputs": [],
   "source": [
    "# class ResidualBlock(nn.Module):\n",
    "#     def __init__(self, in_channels, out_channels, downsample=False):\n",
    "#         super().__init__()\n",
    "#         stride = 2 if downsample else 1\n",
    "#         self.conv1 = nn.Conv2d(in_channels, out_channels, kernel_size=3, stride=stride, padding=1, bias=False)\n",
    "#         self.bn1 = nn.BatchNorm2d(out_channels)\n",
    "#         self.relu = nn.ReLU(inplace=True)\n",
    "#         self.conv2 = nn.Conv2d(out_channels, out_channels, kernel_size=3, padding=1, bias=False)\n",
    "#         self.bn2 = nn.BatchNorm2d(out_channels)\n",
    "\n",
    "        \n",
    "#         self.shortcut = nn.Sequential()\n",
    "#         if in_channels != out_channels or downsample:\n",
    "#             self.shortcut = nn.Sequential(\n",
    "#                 nn.Conv2d(in_channels, out_channels, kernel_size=1, stride=stride, bias=False),\n",
    "#                 nn.BatchNorm2d(out_channels)\n",
    "#             )\n",
    "\n",
    "#     def forward(self, x):\n",
    "#         y = self.conv1(x)\n",
    "#         y = self.bn1(y)\n",
    "#         y = self.conv2(y)\n",
    "#         y = self.bn2(y)\n",
    "#         y += self.shortcut(x) \n",
    "#         return self.relu(y)\n"
   ]
  },
  {
   "cell_type": "code",
   "execution_count": null,
   "metadata": {},
   "outputs": [],
   "source": [
    "\n",
    "\n",
    "class BasicBlock(nn.Module):\n",
    "    expansion = 1\n",
    "    \n",
    "    def __init__(self, in_planes, planes, stride=1):\n",
    "        super(BasicBlock, self).__init__()\n",
    "        self.conv1 = nn.Conv2d(in_planes, planes, kernel_size=3, stride=stride, padding=1, bias=False)\n",
    "        self.bn1 = nn.BatchNorm2d(planes)\n",
    "        self.conv2 = nn.Conv2d(planes, planes, kernel_size=3, stride=1, padding=1, bias=False)\n",
    "        self.bn2 = nn.BatchNorm2d(planes)\n",
    "\n",
    "        self.shortcut = nn.Sequential()\n",
    "        if stride != 1 or in_planes != planes:\n",
    "            self.shortcut = nn.Sequential(\n",
    "                nn.Conv2d(in_planes, planes, kernel_size=1, stride=stride, bias=False),\n",
    "                nn.BatchNorm2d(planes)\n",
    "            )\n",
    "\n",
    "    def forward(self, x):\n",
    "        out = F.relu(self.bn1(self.conv1(x)))\n",
    "        out = self.bn2(self.conv2(out))\n",
    "        out += self.shortcut(x)\n",
    "        out = F.relu(out)\n",
    "        return out\n",
    "\n",
    "class ResNet(nn.Module):\n",
    "    def __init__(self, block, num_blocks, num_classes=10):\n",
    "        super(ResNet, self).__init__()\n",
    "        self.in_planes = 16\n",
    "\n",
    "        self.conv1 = nn.Conv2d(3, 16, kernel_size=3, stride=1, padding=1, bias=False)\n",
    "        self.bn1 = nn.BatchNorm2d(16)\n",
    "        self.layer1 = self._make_layer(block, 16, num_blocks[0], stride=1)\n",
    "        self.layer2 = self._make_layer(block, 32, num_blocks[1], stride=2)\n",
    "        self.layer3 = self._make_layer(block, 64, num_blocks[2], stride=2)\n",
    "        self.linear = nn.Linear(64, num_classes)\n",
    "\n",
    "    def _make_layer(self, block, planes, num_blocks, stride):\n",
    "        strides = [stride] + [1]*(num_blocks-1)\n",
    "        layers = []\n",
    "        for stride in strides:\n",
    "            layers.append(block(self.in_planes, planes, stride))\n",
    "            self.in_planes = planes\n",
    "        return nn.Sequential(*layers)\n",
    "\n",
    "    def forward(self, x):\n",
    "        out = F.relu(self.bn1(self.conv1(x)))\n",
    "        out = self.layer1(out)\n",
    "        out = self.layer2(out)\n",
    "        out = self.layer3(out)\n",
    "        out = F.avg_pool2d(out, 8)\n",
    "        out = out.view(out.size(0), -1)\n",
    "        out = self.linear(out)\n",
    "        return out\n",
    "\n",
    "def ResNet110():\n",
    "    return ResNet(BasicBlock, [18, 18, 18])\n"
   ]
  },
  {
   "cell_type": "code",
   "execution_count": null,
   "metadata": {},
   "outputs": [],
   "source": [
    "# class MyModel(nn.Module):\n",
    "#     def __init__(self, num_classes=10):\n",
    "#         super().__init__()\n",
    "#         self.conv1 = nn.Conv2d(3, 32, kernel_size=3, stride=1, padding=1, bias=False)\n",
    "#         self.bn1 = nn.BatchNorm2d(32)\n",
    "#         self.relu = nn.ReLU(inplace=True)\n",
    "\n",
    "#         self.layer1 = ResidualBlock(32, 64, downsample=True) \n",
    "#         self.layer2 = ResidualBlock(64, 128, downsample=True) \n",
    "#         self.layer3 = ResidualBlock(128, 256, downsample=True) \n",
    "#         self.layer4 = ResidualBlock(256, 512, downsample=True) \n",
    "#         self.layer11 = ResidualBlock(64, 64, downsample=True) \n",
    "#         self.layer22 = ResidualBlock(128, 128, downsample=True) \n",
    "#         self.layer33 = ResidualBlock(256, 256, downsample=True) \n",
    "#         self.layer44 = ResidualBlock(512, 512, downsample=True) \n",
    "\n",
    "#         self.avgpool = nn.AdaptiveAvgPool2d((1,1)) \n",
    "\n",
    "#         self.fc = nn.Sequential(nn.Linear(512, 256),\n",
    "#                                 nn.ReLU(inplace=True),\n",
    "#                                 nn.Dropout(0.5),\n",
    "#                                 nn.Linear(256, 64),\n",
    "#                                 nn.ReLU(inplace=True),\n",
    "#                                 nn.Dropout(0.5),\n",
    "#                                 nn.Linear(64, num_classes))\n",
    "\n",
    "#     def forward(self, x):\n",
    "#         x = self.conv1(x)\n",
    "#         x = self.bn1(x)\n",
    "#         x = self.relu(x)\n",
    "#         x = self.layer1(x)\n",
    "#         x = self.layer11(x)\n",
    "#         x = self.layer2(x)\n",
    "#         x = self.layer22(x)\n",
    "#         x = self.layer3(x)\n",
    "#         x = self.layer33(x)\n",
    "#         x = self.layer4(x)\n",
    "#         x = self.layer44(x)\n",
    "#         x = self.avgpool(x)\n",
    "#         x = torch.flatten(x, 1)\n",
    "#         x = self.fc(x)\n",
    "#         return x\n",
    "\n",
    "# model = MyModel().to(device)\n",
    "\n",
    "model = ResNet110().to(device)\n",
    "\n",
    "def initialize_weights(model):\n",
    "    for m in model.modules():\n",
    "        if isinstance(m, nn.Conv2d):\n",
    "            nn.init.kaiming_normal_(m.weight, mode='fan_out', nonlinearity='relu')\n",
    "            if m.bias is not None:\n",
    "                nn.init.zeros_(m.bias) \n",
    "        elif isinstance(m, nn.Linear):\n",
    "            nn.init.xavier_normal_(m.weight)\n",
    "            if m.bias is not None:\n",
    "                nn.init.zeros_(m.bias) \n",
    "\n",
    "initialize_weights(model)\n",
    "\n"
   ]
  },
  {
   "cell_type": "code",
   "execution_count": 85,
   "metadata": {},
   "outputs": [],
   "source": [
    "train_loss = []\n",
    "val_loss = []\n",
    "val_accuracy = []\n",
    "train_accuracy = []\n",
    "lr_list = []\n",
    "test_loss = 0\n",
    "test_accuracy = 0\n",
    "best_loss = None\n",
    "count = 0\n",
    "epochs = 200\n",
    "lr = 0.1"
   ]
  },
  {
   "cell_type": "code",
   "execution_count": 86,
   "metadata": {},
   "outputs": [],
   "source": [
    "\n",
    "optimizer = torch.optim.SGD(\n",
    "    model.parameters(), \n",
    "    lr=lr, \n",
    "    momentum=0.9, \n",
    "    weight_decay=5e-4\n",
    ")\n",
    "loss_model = nn.CrossEntropyLoss(label_smoothing=0.1)\n",
    "scheduler = torch.optim.lr_scheduler.ReduceLROnPlateau(\n",
    "    optimizer, \n",
    "    mode='min', \n",
    "    factor=0.1, \n",
    "    patience=5, \n",
    "    verbose=True\n",
    ")\n"
   ]
  },
  {
   "cell_type": "code",
   "execution_count": 87,
   "metadata": {},
   "outputs": [
    {
     "name": "stderr",
     "output_type": "stream",
     "text": [
      "  0%|          | 0/79 [00:00<?, ?it/s]C:\\Users\\abobantai\\AppData\\Local\\Temp\\ipykernel_20012\\158976237.py:11: FutureWarning: `torch.cuda.amp.autocast(args...)` is deprecated. Please use `torch.amp.autocast('cuda', args...)` instead.\n",
      "  with autocast():  # Автоматическое использование FP16\n",
      "C:\\Users\\abobantai\\AppData\\Local\\Temp\\ipykernel_20012\\158976237.py:34: FutureWarning: `torch.cuda.amp.autocast(args...)` is deprecated. Please use `torch.amp.autocast('cuda', args...)` instead.\n",
      "  with autocast():  # Автоматическое использование FP16\n"
     ]
    },
    {
     "name": "stdout",
     "output_type": "stream",
     "text": [
      "epoch: 1/200, train_loss: 3.1643, train_accuracy: 0.1037, val_loss: 2.3318, val_accuracy: 0.1020,without best_loss: 0, lr: 0.1\n"
     ]
    },
    {
     "name": "stderr",
     "output_type": "stream",
     "text": [
      "                                                                                                         \r"
     ]
    },
    {
     "name": "stdout",
     "output_type": "stream",
     "text": [
      "epoch: 2/200, train_loss: 2.3089, train_accuracy: 0.1052, val_loss: 2.3352, val_accuracy: 0.1106,without best_loss: 1, lr: 0.1\n"
     ]
    },
    {
     "name": "stderr",
     "output_type": "stream",
     "text": [
      "                                                                                                         \r"
     ]
    },
    {
     "name": "stdout",
     "output_type": "stream",
     "text": [
      "checkpoint on epoch 3 with best val metrics: 2.290191\n",
      "epoch: 3/200, train_loss: 2.2974, train_accuracy: 0.1152, val_loss: 2.2902, val_accuracy: 0.1190,without best_loss: 0, lr: 0.1\n"
     ]
    },
    {
     "name": "stderr",
     "output_type": "stream",
     "text": [
      "                                                                                                         \r"
     ]
    },
    {
     "name": "stdout",
     "output_type": "stream",
     "text": [
      "epoch: 4/200, train_loss: 2.2740, train_accuracy: 0.1278, val_loss: 2.3220, val_accuracy: 0.1440,without best_loss: 1, lr: 0.1\n"
     ]
    },
    {
     "name": "stderr",
     "output_type": "stream",
     "text": [
      "                                                                                                         \r"
     ]
    },
    {
     "name": "stdout",
     "output_type": "stream",
     "text": [
      "checkpoint on epoch 5 with best val metrics: 2.140468\n",
      "epoch: 5/200, train_loss: 2.1940, train_accuracy: 0.1700, val_loss: 2.1405, val_accuracy: 0.1896,without best_loss: 0, lr: 0.1\n"
     ]
    },
    {
     "name": "stderr",
     "output_type": "stream",
     "text": [
      "                                                                                                         \r"
     ]
    },
    {
     "name": "stdout",
     "output_type": "stream",
     "text": [
      "epoch: 6/200, train_loss: 2.1208, train_accuracy: 0.2009, val_loss: 2.1537, val_accuracy: 0.1885,without best_loss: 1, lr: 0.1\n"
     ]
    },
    {
     "name": "stderr",
     "output_type": "stream",
     "text": [
      "                                                                                                         \r"
     ]
    },
    {
     "name": "stdout",
     "output_type": "stream",
     "text": [
      "epoch: 7/200, train_loss: 2.0867, train_accuracy: 0.2207, val_loss: 2.1421, val_accuracy: 0.1971,without best_loss: 2, lr: 0.1\n"
     ]
    },
    {
     "name": "stderr",
     "output_type": "stream",
     "text": [
      "                                                                                                         \r"
     ]
    },
    {
     "name": "stdout",
     "output_type": "stream",
     "text": [
      "epoch: 8/200, train_loss: 2.0501, train_accuracy: 0.2443, val_loss: 2.1622, val_accuracy: 0.2082,without best_loss: 3, lr: 0.1\n"
     ]
    },
    {
     "name": "stderr",
     "output_type": "stream",
     "text": [
      "                                                                                                         \r"
     ]
    },
    {
     "name": "stdout",
     "output_type": "stream",
     "text": [
      "checkpoint on epoch 9 with best val metrics: 1.993282\n",
      "epoch: 9/200, train_loss: 1.9986, train_accuracy: 0.2814, val_loss: 1.9933, val_accuracy: 0.2779,without best_loss: 0, lr: 0.1\n"
     ]
    },
    {
     "name": "stderr",
     "output_type": "stream",
     "text": [
      "                                                                                                          \r"
     ]
    },
    {
     "name": "stdout",
     "output_type": "stream",
     "text": [
      "checkpoint on epoch 10 with best val metrics: 1.940977\n",
      "epoch: 10/200, train_loss: 1.9437, train_accuracy: 0.3138, val_loss: 1.9410, val_accuracy: 0.3175,without best_loss: 0, lr: 0.1\n"
     ]
    },
    {
     "name": "stderr",
     "output_type": "stream",
     "text": [
      "                                                                                                          \r"
     ]
    },
    {
     "name": "stdout",
     "output_type": "stream",
     "text": [
      "epoch: 11/200, train_loss: 1.8959, train_accuracy: 0.3380, val_loss: 1.9633, val_accuracy: 0.3215,without best_loss: 1, lr: 0.1\n"
     ]
    },
    {
     "name": "stderr",
     "output_type": "stream",
     "text": [
      "                                                                                                          \r"
     ]
    },
    {
     "name": "stdout",
     "output_type": "stream",
     "text": [
      "epoch: 12/200, train_loss: 1.8583, train_accuracy: 0.3598, val_loss: 1.9649, val_accuracy: 0.3327,without best_loss: 2, lr: 0.1\n"
     ]
    },
    {
     "name": "stderr",
     "output_type": "stream",
     "text": [
      "Epoch: 13/200, train_loss: 1.8388, train_accuracy: 0.3735:  52%|█████▏    | 41/79 [00:18<00:11,  3.18it/s]Exception ignored in: <function _MultiProcessingDataLoaderIter.__del__ at 0x000002005D997790>\n",
      "Traceback (most recent call last):\n",
      "  File \"C:\\Users\\abobantai\\AppData\\Roaming\\Python\\Python39\\site-packages\\torch\\utils\\data\\dataloader.py\", line 1604, in __del__\n",
      "    self._shutdown_workers()\n",
      "  File \"C:\\Users\\abobantai\\AppData\\Roaming\\Python\\Python39\\site-packages\\torch\\utils\\data\\dataloader.py\", line 1562, in _shutdown_workers\n",
      "    if self._persistent_workers or self._workers_status[worker_id]:\n",
      "AttributeError: '_MultiProcessingDataLoaderIter' object has no attribute '_workers_status'\n",
      "                                                                                                          \r"
     ]
    },
    {
     "name": "stdout",
     "output_type": "stream",
     "text": [
      "checkpoint on epoch 13 with best val metrics: 1.877076\n",
      "epoch: 13/200, train_loss: 1.8174, train_accuracy: 0.3838, val_loss: 1.8771, val_accuracy: 0.3636,without best_loss: 0, lr: 0.1\n"
     ]
    },
    {
     "name": "stderr",
     "output_type": "stream",
     "text": [
      "                                                                                                          \r"
     ]
    },
    {
     "name": "stdout",
     "output_type": "stream",
     "text": [
      "checkpoint on epoch 14 with best val metrics: 1.790237\n",
      "epoch: 14/200, train_loss: 1.7759, train_accuracy: 0.4041, val_loss: 1.7902, val_accuracy: 0.3945,without best_loss: 0, lr: 0.1\n"
     ]
    },
    {
     "name": "stderr",
     "output_type": "stream",
     "text": [
      "                                                                                                          \r"
     ]
    },
    {
     "name": "stdout",
     "output_type": "stream",
     "text": [
      "checkpoint on epoch 15 with best val metrics: 1.777947\n",
      "epoch: 15/200, train_loss: 1.7272, train_accuracy: 0.4225, val_loss: 1.7779, val_accuracy: 0.4028,without best_loss: 0, lr: 0.1\n"
     ]
    },
    {
     "name": "stderr",
     "output_type": "stream",
     "text": [
      "                                                                                                          \r"
     ]
    },
    {
     "name": "stdout",
     "output_type": "stream",
     "text": [
      "checkpoint on epoch 16 with best val metrics: 1.730179\n",
      "epoch: 16/200, train_loss: 1.6906, train_accuracy: 0.4447, val_loss: 1.7302, val_accuracy: 0.4287,without best_loss: 0, lr: 0.1\n"
     ]
    },
    {
     "name": "stderr",
     "output_type": "stream",
     "text": [
      "                                                                                                          \r"
     ]
    },
    {
     "name": "stdout",
     "output_type": "stream",
     "text": [
      "checkpoint on epoch 17 with best val metrics: 1.692522\n",
      "epoch: 17/200, train_loss: 1.6316, train_accuracy: 0.4763, val_loss: 1.6925, val_accuracy: 0.4495,without best_loss: 0, lr: 0.1\n"
     ]
    },
    {
     "name": "stderr",
     "output_type": "stream",
     "text": [
      "                                                                                                          \r"
     ]
    },
    {
     "name": "stdout",
     "output_type": "stream",
     "text": [
      "epoch: 18/200, train_loss: 1.5882, train_accuracy: 0.4979, val_loss: 1.8961, val_accuracy: 0.3947,without best_loss: 1, lr: 0.1\n"
     ]
    },
    {
     "name": "stderr",
     "output_type": "stream",
     "text": [
      "                                                                                                          \r"
     ]
    },
    {
     "name": "stdout",
     "output_type": "stream",
     "text": [
      "checkpoint on epoch 19 with best val metrics: 1.595028\n",
      "epoch: 19/200, train_loss: 1.5394, train_accuracy: 0.5197, val_loss: 1.5950, val_accuracy: 0.4938,without best_loss: 0, lr: 0.1\n"
     ]
    },
    {
     "name": "stderr",
     "output_type": "stream",
     "text": [
      "                                                                                                          \r"
     ]
    },
    {
     "name": "stdout",
     "output_type": "stream",
     "text": [
      "checkpoint on epoch 20 with best val metrics: 1.519274\n",
      "epoch: 20/200, train_loss: 1.5027, train_accuracy: 0.5415, val_loss: 1.5193, val_accuracy: 0.5303,without best_loss: 0, lr: 0.1\n"
     ]
    },
    {
     "name": "stderr",
     "output_type": "stream",
     "text": [
      "                                                                                                          \r"
     ]
    },
    {
     "name": "stdout",
     "output_type": "stream",
     "text": [
      "epoch: 21/200, train_loss: 1.4599, train_accuracy: 0.5624, val_loss: 1.6150, val_accuracy: 0.5053,without best_loss: 1, lr: 0.1\n"
     ]
    },
    {
     "name": "stderr",
     "output_type": "stream",
     "text": [
      "                                                                                                          \r"
     ]
    },
    {
     "name": "stdout",
     "output_type": "stream",
     "text": [
      "epoch: 22/200, train_loss: 1.4057, train_accuracy: 0.5873, val_loss: 1.6920, val_accuracy: 0.4656,without best_loss: 2, lr: 0.1\n"
     ]
    },
    {
     "name": "stderr",
     "output_type": "stream",
     "text": [
      "                                                                                                          \r"
     ]
    },
    {
     "name": "stdout",
     "output_type": "stream",
     "text": [
      "checkpoint on epoch 23 with best val metrics: 1.477538\n",
      "epoch: 23/200, train_loss: 1.3890, train_accuracy: 0.5989, val_loss: 1.4775, val_accuracy: 0.5633,without best_loss: 0, lr: 0.1\n"
     ]
    },
    {
     "name": "stderr",
     "output_type": "stream",
     "text": [
      "                                                                                                          \r"
     ]
    },
    {
     "name": "stdout",
     "output_type": "stream",
     "text": [
      "epoch: 24/200, train_loss: 1.3574, train_accuracy: 0.6143, val_loss: 1.8289, val_accuracy: 0.4507,without best_loss: 1, lr: 0.1\n"
     ]
    },
    {
     "name": "stderr",
     "output_type": "stream",
     "text": [
      "                                                                                                          \r"
     ]
    },
    {
     "name": "stdout",
     "output_type": "stream",
     "text": [
      "checkpoint on epoch 25 with best val metrics: 1.375268\n",
      "epoch: 25/200, train_loss: 1.3504, train_accuracy: 0.6164, val_loss: 1.3753, val_accuracy: 0.6008,without best_loss: 0, lr: 0.1\n"
     ]
    },
    {
     "name": "stderr",
     "output_type": "stream",
     "text": [
      "                                                                                                          \r"
     ]
    },
    {
     "name": "stdout",
     "output_type": "stream",
     "text": [
      "epoch: 26/200, train_loss: 1.3011, train_accuracy: 0.6440, val_loss: 1.4887, val_accuracy: 0.5562,without best_loss: 1, lr: 0.1\n"
     ]
    },
    {
     "name": "stderr",
     "output_type": "stream",
     "text": [
      "                                                                                                          \r"
     ]
    },
    {
     "name": "stdout",
     "output_type": "stream",
     "text": [
      "checkpoint on epoch 27 with best val metrics: 1.373101\n",
      "epoch: 27/200, train_loss: 1.3105, train_accuracy: 0.6352, val_loss: 1.3731, val_accuracy: 0.6058,without best_loss: 0, lr: 0.1\n"
     ]
    },
    {
     "name": "stderr",
     "output_type": "stream",
     "text": [
      "                                                                                                          \r"
     ]
    },
    {
     "name": "stdout",
     "output_type": "stream",
     "text": [
      "checkpoint on epoch 28 with best val metrics: 1.362952\n",
      "epoch: 28/200, train_loss: 1.2588, train_accuracy: 0.6609, val_loss: 1.3630, val_accuracy: 0.6216,without best_loss: 0, lr: 0.1\n"
     ]
    },
    {
     "name": "stderr",
     "output_type": "stream",
     "text": [
      "                                                                                                          \r"
     ]
    },
    {
     "name": "stdout",
     "output_type": "stream",
     "text": [
      "epoch: 29/200, train_loss: 1.2248, train_accuracy: 0.6746, val_loss: 1.4628, val_accuracy: 0.5711,without best_loss: 1, lr: 0.1\n"
     ]
    },
    {
     "name": "stderr",
     "output_type": "stream",
     "text": [
      "                                                                                                          \r"
     ]
    },
    {
     "name": "stdout",
     "output_type": "stream",
     "text": [
      "checkpoint on epoch 30 with best val metrics: 1.268749\n",
      "epoch: 30/200, train_loss: 1.2090, train_accuracy: 0.6843, val_loss: 1.2687, val_accuracy: 0.6603,without best_loss: 0, lr: 0.1\n"
     ]
    },
    {
     "name": "stderr",
     "output_type": "stream",
     "text": [
      "                                                                                                          \r"
     ]
    },
    {
     "name": "stdout",
     "output_type": "stream",
     "text": [
      "epoch: 31/200, train_loss: 1.1877, train_accuracy: 0.6927, val_loss: 1.2843, val_accuracy: 0.6497,without best_loss: 1, lr: 0.1\n"
     ]
    },
    {
     "name": "stderr",
     "output_type": "stream",
     "text": [
      "                                                                                                          \r"
     ]
    },
    {
     "name": "stdout",
     "output_type": "stream",
     "text": [
      "epoch: 32/200, train_loss: 1.1750, train_accuracy: 0.6996, val_loss: 1.4700, val_accuracy: 0.5923,without best_loss: 2, lr: 0.1\n"
     ]
    },
    {
     "name": "stderr",
     "output_type": "stream",
     "text": [
      "                                                                                                          \r"
     ]
    },
    {
     "name": "stdout",
     "output_type": "stream",
     "text": [
      "epoch: 33/200, train_loss: 1.1650, train_accuracy: 0.7061, val_loss: 1.4091, val_accuracy: 0.6086,without best_loss: 3, lr: 0.1\n"
     ]
    },
    {
     "name": "stderr",
     "output_type": "stream",
     "text": [
      "                                                                                                          \r"
     ]
    },
    {
     "name": "stdout",
     "output_type": "stream",
     "text": [
      "epoch: 34/200, train_loss: 1.1571, train_accuracy: 0.7070, val_loss: 1.3298, val_accuracy: 0.6384,without best_loss: 4, lr: 0.1\n"
     ]
    },
    {
     "name": "stderr",
     "output_type": "stream",
     "text": [
      "                                                                                                          \r"
     ]
    },
    {
     "name": "stdout",
     "output_type": "stream",
     "text": [
      "epoch: 35/200, train_loss: 1.1288, train_accuracy: 0.7228, val_loss: 1.3412, val_accuracy: 0.6282,without best_loss: 5, lr: 0.1\n"
     ]
    },
    {
     "name": "stderr",
     "output_type": "stream",
     "text": [
      "                                                                                                          \r"
     ]
    },
    {
     "name": "stdout",
     "output_type": "stream",
     "text": [
      "epoch: 36/200, train_loss: 1.1360, train_accuracy: 0.7184, val_loss: 1.2981, val_accuracy: 0.6466,without best_loss: 6, lr: 0.1\n"
     ]
    },
    {
     "name": "stderr",
     "output_type": "stream",
     "text": [
      "                                                                                                          \r"
     ]
    },
    {
     "name": "stdout",
     "output_type": "stream",
     "text": [
      "checkpoint on epoch 37 with best val metrics: 1.044238\n",
      "epoch: 37/200, train_loss: 1.0421, train_accuracy: 0.7585, val_loss: 1.0442, val_accuracy: 0.7563,without best_loss: 0, lr: 0.010000000000000002\n"
     ]
    },
    {
     "name": "stderr",
     "output_type": "stream",
     "text": [
      "                                                                                                          \r"
     ]
    },
    {
     "name": "stdout",
     "output_type": "stream",
     "text": [
      "checkpoint on epoch 38 with best val metrics: 1.030848\n",
      "epoch: 38/200, train_loss: 1.0005, train_accuracy: 0.7787, val_loss: 1.0308, val_accuracy: 0.7632,without best_loss: 0, lr: 0.010000000000000002\n"
     ]
    },
    {
     "name": "stderr",
     "output_type": "stream",
     "text": [
      "                                                                                                          \r"
     ]
    },
    {
     "name": "stdout",
     "output_type": "stream",
     "text": [
      "epoch: 39/200, train_loss: 0.9829, train_accuracy: 0.7874, val_loss: 1.0375, val_accuracy: 0.7622,without best_loss: 1, lr: 0.010000000000000002\n"
     ]
    },
    {
     "name": "stderr",
     "output_type": "stream",
     "text": [
      "                                                                                                          \r"
     ]
    },
    {
     "name": "stdout",
     "output_type": "stream",
     "text": [
      "checkpoint on epoch 40 with best val metrics: 1.021075\n",
      "epoch: 40/200, train_loss: 0.9758, train_accuracy: 0.7899, val_loss: 1.0211, val_accuracy: 0.7673,without best_loss: 0, lr: 0.010000000000000002\n"
     ]
    },
    {
     "name": "stderr",
     "output_type": "stream",
     "text": [
      "                                                                                                          \r"
     ]
    },
    {
     "name": "stdout",
     "output_type": "stream",
     "text": [
      "epoch: 41/200, train_loss: 0.9703, train_accuracy: 0.7903, val_loss: 1.0269, val_accuracy: 0.7652,without best_loss: 1, lr: 0.010000000000000002\n"
     ]
    },
    {
     "name": "stderr",
     "output_type": "stream",
     "text": [
      "                                                                                                          \r"
     ]
    },
    {
     "name": "stdout",
     "output_type": "stream",
     "text": [
      "checkpoint on epoch 42 with best val metrics: 1.005344\n",
      "epoch: 42/200, train_loss: 0.9645, train_accuracy: 0.7950, val_loss: 1.0053, val_accuracy: 0.7759,without best_loss: 0, lr: 0.010000000000000002\n"
     ]
    },
    {
     "name": "stderr",
     "output_type": "stream",
     "text": [
      "                                                                                                          \r"
     ]
    },
    {
     "name": "stdout",
     "output_type": "stream",
     "text": [
      "checkpoint on epoch 43 with best val metrics: 1.001084\n",
      "epoch: 43/200, train_loss: 0.9614, train_accuracy: 0.7947, val_loss: 1.0011, val_accuracy: 0.7813,without best_loss: 0, lr: 0.010000000000000002\n"
     ]
    },
    {
     "name": "stderr",
     "output_type": "stream",
     "text": [
      "                                                                                                          \r"
     ]
    },
    {
     "name": "stdout",
     "output_type": "stream",
     "text": [
      "checkpoint on epoch 44 with best val metrics: 0.993369\n",
      "epoch: 44/200, train_loss: 0.9537, train_accuracy: 0.7987, val_loss: 0.9934, val_accuracy: 0.7815,without best_loss: 0, lr: 0.010000000000000002\n"
     ]
    },
    {
     "name": "stderr",
     "output_type": "stream",
     "text": [
      "                                                                                                          \r"
     ]
    },
    {
     "name": "stdout",
     "output_type": "stream",
     "text": [
      "epoch: 45/200, train_loss: 0.9471, train_accuracy: 0.8004, val_loss: 1.0055, val_accuracy: 0.7772,without best_loss: 1, lr: 0.010000000000000002\n"
     ]
    },
    {
     "name": "stderr",
     "output_type": "stream",
     "text": [
      "                                                                                                          \r"
     ]
    },
    {
     "name": "stdout",
     "output_type": "stream",
     "text": [
      "epoch: 46/200, train_loss: 0.9470, train_accuracy: 0.8035, val_loss: 1.0010, val_accuracy: 0.7758,without best_loss: 2, lr: 0.010000000000000002\n"
     ]
    },
    {
     "name": "stderr",
     "output_type": "stream",
     "text": [
      "                                                                                                          \r"
     ]
    },
    {
     "name": "stdout",
     "output_type": "stream",
     "text": [
      "epoch: 47/200, train_loss: 0.9411, train_accuracy: 0.8047, val_loss: 0.9970, val_accuracy: 0.7803,without best_loss: 3, lr: 0.010000000000000002\n"
     ]
    },
    {
     "name": "stderr",
     "output_type": "stream",
     "text": [
      "                                                                                                          \r"
     ]
    },
    {
     "name": "stdout",
     "output_type": "stream",
     "text": [
      "epoch: 48/200, train_loss: 0.9337, train_accuracy: 0.8092, val_loss: 0.9982, val_accuracy: 0.7812,without best_loss: 4, lr: 0.010000000000000002\n"
     ]
    },
    {
     "name": "stderr",
     "output_type": "stream",
     "text": [
      "                                                                                                          \r"
     ]
    },
    {
     "name": "stdout",
     "output_type": "stream",
     "text": [
      "checkpoint on epoch 49 with best val metrics: 0.989984\n",
      "epoch: 49/200, train_loss: 0.9315, train_accuracy: 0.8098, val_loss: 0.9900, val_accuracy: 0.7798,without best_loss: 0, lr: 0.010000000000000002\n"
     ]
    },
    {
     "name": "stderr",
     "output_type": "stream",
     "text": [
      "                                                                                                          \r"
     ]
    },
    {
     "name": "stdout",
     "output_type": "stream",
     "text": [
      "epoch: 50/200, train_loss: 0.9289, train_accuracy: 0.8106, val_loss: 0.9908, val_accuracy: 0.7823,without best_loss: 1, lr: 0.010000000000000002\n"
     ]
    },
    {
     "name": "stderr",
     "output_type": "stream",
     "text": [
      "                                                                                                          \r"
     ]
    },
    {
     "name": "stdout",
     "output_type": "stream",
     "text": [
      "epoch: 51/200, train_loss: 0.9251, train_accuracy: 0.8126, val_loss: 0.9912, val_accuracy: 0.7812,without best_loss: 2, lr: 0.010000000000000002\n"
     ]
    },
    {
     "name": "stderr",
     "output_type": "stream",
     "text": [
      "                                                                                                          \r"
     ]
    },
    {
     "name": "stdout",
     "output_type": "stream",
     "text": [
      "checkpoint on epoch 52 with best val metrics: 0.982657\n",
      "epoch: 52/200, train_loss: 0.9219, train_accuracy: 0.8157, val_loss: 0.9827, val_accuracy: 0.7858,without best_loss: 0, lr: 0.010000000000000002\n"
     ]
    },
    {
     "name": "stderr",
     "output_type": "stream",
     "text": [
      "                                                                                                          \r"
     ]
    },
    {
     "name": "stdout",
     "output_type": "stream",
     "text": [
      "checkpoint on epoch 53 with best val metrics: 0.977921\n",
      "epoch: 53/200, train_loss: 0.9145, train_accuracy: 0.8184, val_loss: 0.9779, val_accuracy: 0.7910,without best_loss: 0, lr: 0.010000000000000002\n"
     ]
    },
    {
     "name": "stderr",
     "output_type": "stream",
     "text": [
      "                                                                                                          \r"
     ]
    },
    {
     "name": "stdout",
     "output_type": "stream",
     "text": [
      "checkpoint on epoch 54 with best val metrics: 0.970372\n",
      "epoch: 54/200, train_loss: 0.9150, train_accuracy: 0.8152, val_loss: 0.9704, val_accuracy: 0.7907,without best_loss: 0, lr: 0.010000000000000002\n"
     ]
    },
    {
     "name": "stderr",
     "output_type": "stream",
     "text": [
      "                                                                                                          \r"
     ]
    },
    {
     "name": "stdout",
     "output_type": "stream",
     "text": [
      "epoch: 55/200, train_loss: 0.9107, train_accuracy: 0.8167, val_loss: 1.0046, val_accuracy: 0.7761,without best_loss: 1, lr: 0.010000000000000002\n"
     ]
    },
    {
     "name": "stderr",
     "output_type": "stream",
     "text": [
      "                                                                                                          \r"
     ]
    },
    {
     "name": "stdout",
     "output_type": "stream",
     "text": [
      "epoch: 56/200, train_loss: 0.9112, train_accuracy: 0.8201, val_loss: 0.9805, val_accuracy: 0.7856,without best_loss: 2, lr: 0.010000000000000002\n"
     ]
    },
    {
     "name": "stderr",
     "output_type": "stream",
     "text": [
      "                                                                                                          \r"
     ]
    },
    {
     "name": "stdout",
     "output_type": "stream",
     "text": [
      "epoch: 57/200, train_loss: 0.9072, train_accuracy: 0.8177, val_loss: 0.9825, val_accuracy: 0.7851,without best_loss: 3, lr: 0.010000000000000002\n"
     ]
    },
    {
     "name": "stderr",
     "output_type": "stream",
     "text": [
      "                                                                                                          \r"
     ]
    },
    {
     "name": "stdout",
     "output_type": "stream",
     "text": [
      "epoch: 58/200, train_loss: 0.9055, train_accuracy: 0.8209, val_loss: 0.9946, val_accuracy: 0.7793,without best_loss: 4, lr: 0.010000000000000002\n"
     ]
    },
    {
     "name": "stderr",
     "output_type": "stream",
     "text": [
      "                                                                                                          \r"
     ]
    },
    {
     "name": "stdout",
     "output_type": "stream",
     "text": [
      "epoch: 59/200, train_loss: 0.9016, train_accuracy: 0.8225, val_loss: 0.9784, val_accuracy: 0.7900,without best_loss: 5, lr: 0.010000000000000002\n"
     ]
    },
    {
     "name": "stderr",
     "output_type": "stream",
     "text": [
      "                                                                                                          \r"
     ]
    },
    {
     "name": "stdout",
     "output_type": "stream",
     "text": [
      "epoch: 60/200, train_loss: 0.8993, train_accuracy: 0.8238, val_loss: 1.0047, val_accuracy: 0.7814,without best_loss: 6, lr: 0.010000000000000002\n"
     ]
    },
    {
     "name": "stderr",
     "output_type": "stream",
     "text": [
      "                                                                                                          \r"
     ]
    },
    {
     "name": "stdout",
     "output_type": "stream",
     "text": [
      "checkpoint on epoch 61 with best val metrics: 0.945739\n",
      "epoch: 61/200, train_loss: 0.8857, train_accuracy: 0.8307, val_loss: 0.9457, val_accuracy: 0.8055,without best_loss: 0, lr: 0.0010000000000000002\n"
     ]
    },
    {
     "name": "stderr",
     "output_type": "stream",
     "text": [
      "                                                                                                          \r"
     ]
    },
    {
     "name": "stdout",
     "output_type": "stream",
     "text": [
      "checkpoint on epoch 62 with best val metrics: 0.945732\n",
      "epoch: 62/200, train_loss: 0.8709, train_accuracy: 0.8376, val_loss: 0.9457, val_accuracy: 0.8011,without best_loss: 0, lr: 0.0010000000000000002\n"
     ]
    },
    {
     "name": "stderr",
     "output_type": "stream",
     "text": [
      "                                                                                                          \r"
     ]
    },
    {
     "name": "stdout",
     "output_type": "stream",
     "text": [
      "checkpoint on epoch 63 with best val metrics: 0.937254\n",
      "epoch: 63/200, train_loss: 0.8721, train_accuracy: 0.8361, val_loss: 0.9373, val_accuracy: 0.8066,without best_loss: 0, lr: 0.0010000000000000002\n"
     ]
    },
    {
     "name": "stderr",
     "output_type": "stream",
     "text": [
      "                                                                                                          \r"
     ]
    },
    {
     "name": "stdout",
     "output_type": "stream",
     "text": [
      "epoch: 64/200, train_loss: 0.8681, train_accuracy: 0.8368, val_loss: 0.9434, val_accuracy: 0.8013,without best_loss: 1, lr: 0.0010000000000000002\n"
     ]
    },
    {
     "name": "stderr",
     "output_type": "stream",
     "text": [
      "                                                                                                          \r"
     ]
    },
    {
     "name": "stdout",
     "output_type": "stream",
     "text": [
      "epoch: 65/200, train_loss: 0.8653, train_accuracy: 0.8419, val_loss: 0.9405, val_accuracy: 0.8062,without best_loss: 2, lr: 0.0010000000000000002\n"
     ]
    },
    {
     "name": "stderr",
     "output_type": "stream",
     "text": [
      "                                                                                                          \r"
     ]
    },
    {
     "name": "stdout",
     "output_type": "stream",
     "text": [
      "epoch: 66/200, train_loss: 0.8625, train_accuracy: 0.8394, val_loss: 0.9385, val_accuracy: 0.8040,without best_loss: 3, lr: 0.0010000000000000002\n"
     ]
    },
    {
     "name": "stderr",
     "output_type": "stream",
     "text": [
      "                                                                                                          \r"
     ]
    },
    {
     "name": "stdout",
     "output_type": "stream",
     "text": [
      "epoch: 67/200, train_loss: 0.8597, train_accuracy: 0.8419, val_loss: 0.9375, val_accuracy: 0.8067,without best_loss: 4, lr: 0.0010000000000000002\n"
     ]
    },
    {
     "name": "stderr",
     "output_type": "stream",
     "text": [
      "                                                                                                          \r"
     ]
    },
    {
     "name": "stdout",
     "output_type": "stream",
     "text": [
      "checkpoint on epoch 68 with best val metrics: 0.928244\n",
      "epoch: 68/200, train_loss: 0.8657, train_accuracy: 0.8401, val_loss: 0.9282, val_accuracy: 0.8088,without best_loss: 0, lr: 0.0010000000000000002\n"
     ]
    },
    {
     "name": "stderr",
     "output_type": "stream",
     "text": [
      "                                                                                                          \r"
     ]
    },
    {
     "name": "stdout",
     "output_type": "stream",
     "text": [
      "epoch: 69/200, train_loss: 0.8558, train_accuracy: 0.8437, val_loss: 0.9289, val_accuracy: 0.8089,without best_loss: 1, lr: 0.0010000000000000002\n"
     ]
    },
    {
     "name": "stderr",
     "output_type": "stream",
     "text": [
      "                                                                                                          \r"
     ]
    },
    {
     "name": "stdout",
     "output_type": "stream",
     "text": [
      "epoch: 70/200, train_loss: 0.8590, train_accuracy: 0.8419, val_loss: 0.9319, val_accuracy: 0.8054,without best_loss: 2, lr: 0.0010000000000000002\n"
     ]
    },
    {
     "name": "stderr",
     "output_type": "stream",
     "text": [
      "                                                                                                          \r"
     ]
    },
    {
     "name": "stdout",
     "output_type": "stream",
     "text": [
      "epoch: 71/200, train_loss: 0.8602, train_accuracy: 0.8415, val_loss: 0.9357, val_accuracy: 0.8040,without best_loss: 3, lr: 0.0010000000000000002\n"
     ]
    },
    {
     "name": "stderr",
     "output_type": "stream",
     "text": [
      "                                                                                                          \r"
     ]
    },
    {
     "name": "stdout",
     "output_type": "stream",
     "text": [
      "epoch: 72/200, train_loss: 0.8577, train_accuracy: 0.8433, val_loss: 0.9336, val_accuracy: 0.8056,without best_loss: 4, lr: 0.0010000000000000002\n"
     ]
    },
    {
     "name": "stderr",
     "output_type": "stream",
     "text": [
      "                                                                                                          \r"
     ]
    },
    {
     "name": "stdout",
     "output_type": "stream",
     "text": [
      "epoch: 73/200, train_loss: 0.8625, train_accuracy: 0.8390, val_loss: 0.9291, val_accuracy: 0.8097,without best_loss: 5, lr: 0.0010000000000000002\n"
     ]
    },
    {
     "name": "stderr",
     "output_type": "stream",
     "text": [
      "                                                                                                          \r"
     ]
    },
    {
     "name": "stdout",
     "output_type": "stream",
     "text": [
      "epoch: 74/200, train_loss: 0.8573, train_accuracy: 0.8429, val_loss: 0.9412, val_accuracy: 0.8042,without best_loss: 6, lr: 0.0010000000000000002\n"
     ]
    },
    {
     "name": "stderr",
     "output_type": "stream",
     "text": [
      "                                                                                                          \r"
     ]
    },
    {
     "name": "stdout",
     "output_type": "stream",
     "text": [
      "checkpoint on epoch 75 with best val metrics: 0.926363\n",
      "epoch: 75/200, train_loss: 0.8532, train_accuracy: 0.8450, val_loss: 0.9264, val_accuracy: 0.8077,without best_loss: 0, lr: 0.00010000000000000003\n"
     ]
    },
    {
     "name": "stderr",
     "output_type": "stream",
     "text": [
      "                                                                                                          \r"
     ]
    },
    {
     "name": "stdout",
     "output_type": "stream",
     "text": [
      "epoch: 76/200, train_loss: 0.8553, train_accuracy: 0.8428, val_loss: 0.9316, val_accuracy: 0.8078,without best_loss: 1, lr: 0.00010000000000000003\n"
     ]
    },
    {
     "name": "stderr",
     "output_type": "stream",
     "text": [
      "                                                                                                          \r"
     ]
    },
    {
     "name": "stdout",
     "output_type": "stream",
     "text": [
      "epoch: 77/200, train_loss: 0.8518, train_accuracy: 0.8473, val_loss: 0.9323, val_accuracy: 0.8098,without best_loss: 2, lr: 0.00010000000000000003\n"
     ]
    },
    {
     "name": "stderr",
     "output_type": "stream",
     "text": [
      "                                                                                                          \r"
     ]
    },
    {
     "name": "stdout",
     "output_type": "stream",
     "text": [
      "epoch: 78/200, train_loss: 0.8538, train_accuracy: 0.8447, val_loss: 0.9355, val_accuracy: 0.8056,without best_loss: 3, lr: 0.00010000000000000003\n"
     ]
    },
    {
     "name": "stderr",
     "output_type": "stream",
     "text": [
      "                                                                                                          \r"
     ]
    },
    {
     "name": "stdout",
     "output_type": "stream",
     "text": [
      "epoch: 79/200, train_loss: 0.8538, train_accuracy: 0.8424, val_loss: 0.9311, val_accuracy: 0.8099,without best_loss: 4, lr: 0.00010000000000000003\n"
     ]
    },
    {
     "name": "stderr",
     "output_type": "stream",
     "text": [
      "                                                                                                          \r"
     ]
    },
    {
     "name": "stdout",
     "output_type": "stream",
     "text": [
      "epoch: 80/200, train_loss: 0.8544, train_accuracy: 0.8424, val_loss: 0.9291, val_accuracy: 0.8105,without best_loss: 5, lr: 0.00010000000000000003\n"
     ]
    },
    {
     "name": "stderr",
     "output_type": "stream",
     "text": [
      "                                                                                                          \r"
     ]
    },
    {
     "name": "stdout",
     "output_type": "stream",
     "text": [
      "epoch: 81/200, train_loss: 0.8543, train_accuracy: 0.8440, val_loss: 0.9270, val_accuracy: 0.8087,without best_loss: 6, lr: 0.00010000000000000003\n"
     ]
    },
    {
     "name": "stderr",
     "output_type": "stream",
     "text": [
      "                                                                                                          \r"
     ]
    },
    {
     "name": "stdout",
     "output_type": "stream",
     "text": [
      "epoch: 82/200, train_loss: 0.8537, train_accuracy: 0.8421, val_loss: 0.9318, val_accuracy: 0.8073,without best_loss: 7, lr: 1.0000000000000004e-05\n"
     ]
    },
    {
     "name": "stderr",
     "output_type": "stream",
     "text": [
      "                                                                                                          \r"
     ]
    },
    {
     "name": "stdout",
     "output_type": "stream",
     "text": [
      "epoch: 83/200, train_loss: 0.8571, train_accuracy: 0.8439, val_loss: 0.9315, val_accuracy: 0.8076,without best_loss: 8, lr: 1.0000000000000004e-05\n"
     ]
    },
    {
     "name": "stderr",
     "output_type": "stream",
     "text": [
      "                                                                                                          \r"
     ]
    },
    {
     "name": "stdout",
     "output_type": "stream",
     "text": [
      "epoch: 84/200, train_loss: 0.8525, train_accuracy: 0.8469, val_loss: 0.9300, val_accuracy: 0.8102,without best_loss: 9, lr: 1.0000000000000004e-05\n"
     ]
    },
    {
     "name": "stderr",
     "output_type": "stream",
     "text": [
      "                                                                                                          \r"
     ]
    },
    {
     "name": "stdout",
     "output_type": "stream",
     "text": [
      "epoch: 85/200, train_loss: 0.8526, train_accuracy: 0.8440, val_loss: 0.9304, val_accuracy: 0.8075,without best_loss: 10, lr: 1.0000000000000004e-05\n"
     ]
    },
    {
     "name": "stderr",
     "output_type": "stream",
     "text": [
      "                                                                                                          \r"
     ]
    },
    {
     "name": "stdout",
     "output_type": "stream",
     "text": [
      "epoch: 86/200, train_loss: 0.8541, train_accuracy: 0.8458, val_loss: 0.9310, val_accuracy: 0.8094,without best_loss: 11, lr: 1.0000000000000004e-05\n"
     ]
    },
    {
     "name": "stderr",
     "output_type": "stream",
     "text": [
      "                                                                                                          \r"
     ]
    },
    {
     "name": "stdout",
     "output_type": "stream",
     "text": [
      "epoch: 87/200, train_loss: 0.8509, train_accuracy: 0.8450, val_loss: 0.9301, val_accuracy: 0.8075,without best_loss: 12, lr: 1.0000000000000004e-05\n"
     ]
    },
    {
     "name": "stderr",
     "output_type": "stream",
     "text": [
      "                                                                                                          \r"
     ]
    },
    {
     "name": "stdout",
     "output_type": "stream",
     "text": [
      "epoch: 88/200, train_loss: 0.8488, train_accuracy: 0.8465, val_loss: 0.9382, val_accuracy: 0.8053,without best_loss: 13, lr: 1.0000000000000004e-06\n"
     ]
    },
    {
     "name": "stderr",
     "output_type": "stream",
     "text": [
      "                                                                                                          \r"
     ]
    },
    {
     "name": "stdout",
     "output_type": "stream",
     "text": [
      "checkpoint on epoch 89 with best val metrics: 0.926150\n",
      "epoch: 89/200, train_loss: 0.8553, train_accuracy: 0.8437, val_loss: 0.9262, val_accuracy: 0.8127,without best_loss: 0, lr: 1.0000000000000004e-06\n"
     ]
    },
    {
     "name": "stderr",
     "output_type": "stream",
     "text": [
      "                                                                                                          \r"
     ]
    },
    {
     "name": "stdout",
     "output_type": "stream",
     "text": [
      "epoch: 90/200, train_loss: 0.8537, train_accuracy: 0.8427, val_loss: 0.9267, val_accuracy: 0.8111,without best_loss: 1, lr: 1.0000000000000004e-06\n"
     ]
    },
    {
     "name": "stderr",
     "output_type": "stream",
     "text": [
      "                                                                                                          \r"
     ]
    },
    {
     "name": "stdout",
     "output_type": "stream",
     "text": [
      "epoch: 91/200, train_loss: 0.8528, train_accuracy: 0.8435, val_loss: 0.9294, val_accuracy: 0.8100,without best_loss: 2, lr: 1.0000000000000004e-06\n"
     ]
    },
    {
     "name": "stderr",
     "output_type": "stream",
     "text": [
      "                                                                                                          \r"
     ]
    },
    {
     "name": "stdout",
     "output_type": "stream",
     "text": [
      "epoch: 92/200, train_loss: 0.8530, train_accuracy: 0.8436, val_loss: 0.9305, val_accuracy: 0.8094,without best_loss: 3, lr: 1.0000000000000004e-06\n"
     ]
    },
    {
     "name": "stderr",
     "output_type": "stream",
     "text": [
      "                                                                                                          \r"
     ]
    },
    {
     "name": "stdout",
     "output_type": "stream",
     "text": [
      "epoch: 93/200, train_loss: 0.8531, train_accuracy: 0.8448, val_loss: 0.9324, val_accuracy: 0.8129,without best_loss: 4, lr: 1.0000000000000004e-06\n"
     ]
    },
    {
     "name": "stderr",
     "output_type": "stream",
     "text": [
      "                                                                                                          \r"
     ]
    },
    {
     "name": "stdout",
     "output_type": "stream",
     "text": [
      "epoch: 94/200, train_loss: 0.8517, train_accuracy: 0.8450, val_loss: 0.9373, val_accuracy: 0.8065,without best_loss: 5, lr: 1.0000000000000004e-06\n"
     ]
    },
    {
     "name": "stderr",
     "output_type": "stream",
     "text": [
      "                                                                                                          \r"
     ]
    },
    {
     "name": "stdout",
     "output_type": "stream",
     "text": [
      "epoch: 95/200, train_loss: 0.8530, train_accuracy: 0.8448, val_loss: 0.9334, val_accuracy: 0.8077,without best_loss: 6, lr: 1.0000000000000004e-06\n"
     ]
    },
    {
     "name": "stderr",
     "output_type": "stream",
     "text": [
      "                                                                                                          \r"
     ]
    },
    {
     "name": "stdout",
     "output_type": "stream",
     "text": [
      "epoch: 96/200, train_loss: 0.8534, train_accuracy: 0.8444, val_loss: 0.9370, val_accuracy: 0.8049,without best_loss: 7, lr: 1.0000000000000005e-07\n"
     ]
    },
    {
     "name": "stderr",
     "output_type": "stream",
     "text": [
      "                                                                                                          \r"
     ]
    },
    {
     "name": "stdout",
     "output_type": "stream",
     "text": [
      "epoch: 97/200, train_loss: 0.8528, train_accuracy: 0.8455, val_loss: 0.9287, val_accuracy: 0.8058,without best_loss: 8, lr: 1.0000000000000005e-07\n"
     ]
    },
    {
     "name": "stderr",
     "output_type": "stream",
     "text": [
      "                                                                                                          \r"
     ]
    },
    {
     "name": "stdout",
     "output_type": "stream",
     "text": [
      "epoch: 98/200, train_loss: 0.8526, train_accuracy: 0.8447, val_loss: 0.9348, val_accuracy: 0.8077,without best_loss: 9, lr: 1.0000000000000005e-07\n"
     ]
    },
    {
     "name": "stderr",
     "output_type": "stream",
     "text": [
      "                                                                                                          \r"
     ]
    },
    {
     "name": "stdout",
     "output_type": "stream",
     "text": [
      "epoch: 99/200, train_loss: 0.8585, train_accuracy: 0.8427, val_loss: 0.9375, val_accuracy: 0.8049,without best_loss: 10, lr: 1.0000000000000005e-07\n"
     ]
    },
    {
     "name": "stderr",
     "output_type": "stream",
     "text": [
      "                                                                                                           \r"
     ]
    },
    {
     "name": "stdout",
     "output_type": "stream",
     "text": [
      "epoch: 100/200, train_loss: 0.8558, train_accuracy: 0.8425, val_loss: 0.9276, val_accuracy: 0.8122,without best_loss: 11, lr: 1.0000000000000005e-07\n"
     ]
    },
    {
     "name": "stderr",
     "output_type": "stream",
     "text": [
      "                                                                                                           \r"
     ]
    },
    {
     "name": "stdout",
     "output_type": "stream",
     "text": [
      "epoch: 101/200, train_loss: 0.8465, train_accuracy: 0.8489, val_loss: 0.9318, val_accuracy: 0.8099,without best_loss: 12, lr: 1.0000000000000005e-07\n"
     ]
    },
    {
     "name": "stderr",
     "output_type": "stream",
     "text": [
      "                                                                                                           \r"
     ]
    },
    {
     "name": "stdout",
     "output_type": "stream",
     "text": [
      "epoch: 102/200, train_loss: 0.8515, train_accuracy: 0.8444, val_loss: 0.9389, val_accuracy: 0.8056,without best_loss: 13, lr: 1.0000000000000005e-08\n"
     ]
    },
    {
     "name": "stderr",
     "output_type": "stream",
     "text": [
      "                                                                                                           \r"
     ]
    },
    {
     "name": "stdout",
     "output_type": "stream",
     "text": [
      "epoch: 103/200, train_loss: 0.8545, train_accuracy: 0.8450, val_loss: 0.9364, val_accuracy: 0.8078,without best_loss: 14, lr: 1.0000000000000005e-08\n"
     ]
    },
    {
     "name": "stderr",
     "output_type": "stream",
     "text": [
      "                                                                                                           \r"
     ]
    },
    {
     "name": "stdout",
     "output_type": "stream",
     "text": [
      "epoch: 104/200, train_loss: 0.8557, train_accuracy: 0.8440, val_loss: 0.9292, val_accuracy: 0.8090,without best_loss: 15, lr: 1.0000000000000005e-08\n"
     ]
    },
    {
     "name": "stderr",
     "output_type": "stream",
     "text": [
      "                                                                                                           \r"
     ]
    },
    {
     "name": "stdout",
     "output_type": "stream",
     "text": [
      "epoch: 105/200, train_loss: 0.8556, train_accuracy: 0.8432, val_loss: 0.9282, val_accuracy: 0.8085,without best_loss: 16, lr: 1.0000000000000005e-08\n"
     ]
    },
    {
     "name": "stderr",
     "output_type": "stream",
     "text": [
      "                                                                                                           \r"
     ]
    },
    {
     "name": "stdout",
     "output_type": "stream",
     "text": [
      "epoch: 106/200, train_loss: 0.8543, train_accuracy: 0.8441, val_loss: 0.9304, val_accuracy: 0.8090,without best_loss: 17, lr: 1.0000000000000005e-08\n"
     ]
    },
    {
     "name": "stderr",
     "output_type": "stream",
     "text": [
      "                                                                                                           \r"
     ]
    },
    {
     "name": "stdout",
     "output_type": "stream",
     "text": [
      "epoch: 107/200, train_loss: 0.8514, train_accuracy: 0.8449, val_loss: 0.9357, val_accuracy: 0.8069,without best_loss: 18, lr: 1.0000000000000005e-08\n"
     ]
    },
    {
     "name": "stderr",
     "output_type": "stream",
     "text": [
      "                                                                                                           \r"
     ]
    },
    {
     "name": "stdout",
     "output_type": "stream",
     "text": [
      "epoch: 108/200, train_loss: 0.8528, train_accuracy: 0.8447, val_loss: 0.9284, val_accuracy: 0.8106,without best_loss: 19, lr: 1.0000000000000005e-08\n"
     ]
    },
    {
     "name": "stderr",
     "output_type": "stream",
     "text": [
      "                                                                                                           \r"
     ]
    },
    {
     "name": "stdout",
     "output_type": "stream",
     "text": [
      "Early stopping on epoch: 109\n"
     ]
    }
   ],
   "source": [
    "count = 0\n",
    "for epoch in range(epochs):\n",
    "    train_loop = tqdm(train_data, leave=False)\n",
    "    model.train()\n",
    "    true_answers = 0\n",
    "    total = 0\n",
    "    running_train_loss = []\n",
    "    for x, target in train_loop:\n",
    "        x = x.to(device)\n",
    "        target = target.to(torch.int64).to(device)\n",
    "        with autocast():  # Автоматическое использование FP16\n",
    "            prediction = model(x)\n",
    "            loss = loss_model(prediction, target)\n",
    "        optimizer.zero_grad()\n",
    "        scaler.scale(loss).backward()  # Масштабирование градиентов\n",
    "        scaler.step(optimizer)\n",
    "        scaler.update()\n",
    "        running_train_loss.append(loss.item())\n",
    "        mean_train_loss = sum(running_train_loss)/len(running_train_loss)\n",
    "        true_answers += (prediction.argmax(1) == target).sum().item()\n",
    "        total += target.size(0)\n",
    "        mean_train_acc = true_answers / total\n",
    "        train_loop.set_description(f'Epoch: {epoch+1}/{epochs}, train_loss: {mean_train_loss:.4f}, train_accuracy: {mean_train_acc:.4f}')\n",
    "    train_accuracy.append(mean_train_acc)\n",
    "    train_loss.append(mean_train_loss)\n",
    "    with torch.no_grad():\n",
    "        model.eval()\n",
    "        true_answers = 0\n",
    "        total = 0\n",
    "        running_val_loss = []\n",
    "        for x, target in val_data:\n",
    "            x = x.to(device)\n",
    "            target = target.to(torch.int64).to(device)\n",
    "            with autocast():  # Автоматическое использование FP16\n",
    "                prediction = model(x)\n",
    "                loss = loss_model(prediction, target)\n",
    "            running_val_loss.append(loss.item())\n",
    "            true_answers += (prediction.argmax(1) == target).sum().item()\n",
    "            total += target.size(0)\n",
    "            mean_val_loss = sum(running_val_loss)/len(running_val_loss)\n",
    "            mean_val_acc = true_answers / total\n",
    "        val_accuracy.append(mean_val_acc)\n",
    "        val_loss.append(mean_val_loss)\n",
    "    if best_loss is None:\n",
    "        best_loss = mean_val_loss\n",
    "    elif mean_val_loss < best_loss:\n",
    "        best_loss = mean_val_loss\n",
    "        checkpoint = {\n",
    "            \"state_model\": model.state_dict(),\n",
    "            \"state_optimizer\": optimizer.state_dict(),\n",
    "            \"state_scheduler\": scheduler.state_dict(),\n",
    "            \"loss\": {\n",
    "                \"train_loss\": train_loss,\n",
    "                \"val_loss\": val_loss,\n",
    "                \"best_loss\": best_loss\n",
    "            },\n",
    "            \"metric\":{\n",
    "                \"train_accuracy\": train_accuracy,\n",
    "                \"val_accuracy\": val_accuracy\n",
    "            },\n",
    "            \"lr\": lr_list,\n",
    "            \"epoch\": {\n",
    "                \"epochs\": epochs,\n",
    "                \"save_epochs\": epoch\n",
    "            }\n",
    "        }\n",
    "        torch.save(checkpoint, f'checkpoints/model_state_dict.pt')\n",
    "        print(f\"checkpoint on epoch {epoch+1} with best val metrics: {mean_val_loss:.6f}\")\n",
    "        count = 0\n",
    "    else:\n",
    "        count += 1\n",
    "    if count == 20:\n",
    "        print('Early stopping on epoch:', epoch+1)\n",
    "        break\n",
    "    \n",
    "    lr = optimizer.param_groups[0]['lr']\n",
    "    lr_list.append(lr)\n",
    "    scheduler.step(mean_val_loss)\n",
    "    print(f'epoch: {epoch+1}/{epochs}, train_loss: {mean_train_loss:.4f}, train_accuracy: {mean_train_acc:.4f}, val_loss: {mean_val_loss:.4f}, val_accuracy: {mean_val_acc:.4f},without best_loss: {count}, lr: {lr}')\n",
    "        "
   ]
  },
  {
   "cell_type": "code",
   "execution_count": 91,
   "metadata": {},
   "outputs": [
    {
     "data": {
      "image/png": "[encoded data removed]",
      "text/plain": [
       "<Figure size 640x480 with 1 Axes>"
      ]
     },
     "metadata": {},
     "output_type": "display_data"
    }
   ],
   "source": [
    "plt.plot(train_loss, label='train_loss')\n",
    "plt.plot(val_loss, label='val_loss')\n",
    "plt.xlabel('Epochs')\n",
    "plt.ylabel('Loss')  \n",
    "plt.show()"
   ]
  },
  {
   "cell_type": "code",
   "execution_count": 92,
   "metadata": {},
   "outputs": [
    {
     "data": {
      "image/png": "[encoded data removed]",
      "text/plain": [
       "<Figure size 640x480 with 1 Axes>"
      ]
     },
     "metadata": {},
     "output_type": "display_data"
    }
   ],
   "source": [
    "plt.plot(train_accuracy, label='train_acc')\n",
    "plt.plot(val_accuracy, label='val_acc')\n",
    "plt.xlabel('Epochs')\n",
    "plt.ylabel('accuracy')  \n",
    "plt.show()"
   ]
  },
  {
   "cell_type": "code",
   "execution_count": 93,
   "metadata": {},
   "outputs": [
    {
     "data": {
      "image/png": "[encoded data removed]",
      "text/plain": [
       "<Figure size 640x480 with 1 Axes>"
      ]
     },
     "metadata": {},
     "output_type": "display_data"
    }
   ],
   "source": [
    "\n",
    "plt.plot(lr_list, label='lr')\n",
    "plt.xlabel('learning rate')\n",
    "plt.ylabel('Loss')  \n",
    "plt.show()"
   ]
  },
  {
   "cell_type": "code",
   "execution_count": 88,
   "metadata": {},
   "outputs": [
    {
     "name": "stdout",
     "output_type": "stream",
     "text": [
      "0.8637\n",
      "0.8126671642065049\n"
     ]
    }
   ],
   "source": [
    "with torch.no_grad():\n",
    "        model.eval()\n",
    "        true_answers = 0\n",
    "        total = 0\n",
    "        running_test_loss = []\n",
    "        for x, target in test_data:\n",
    "            x = x.to(device)\n",
    "            target = target.to(torch.int64).to(device)\n",
    "            prediction = model(x)\n",
    "            loss = loss_model(prediction, target)\n",
    "            running_test_loss.append(loss.item())\n",
    "            true_answers += (prediction.argmax(1) == target).sum().item()\n",
    "            total += target.size(0)\n",
    "            mean_test_loss = sum(running_test_loss)/len(running_test_loss)\n",
    "            mean_test_acc = true_answers / total\n",
    "        test_accuracy=mean_test_acc\n",
    "        test_loss=mean_test_loss\n",
    "        print(test_accuracy)\n",
    "        print(test_loss)"
   ]
  }
 ],
 "metadata": {
  "kernelspec": {
   "display_name": "Python 3",
   "language": "python",
   "name": "python3"
  },
  "language_info": {
   "codemirror_mode": {
    "name": "ipython",
    "version": 3
   },
   "file_extension": ".py",
   "mimetype": "text/x-python",
   "name": "python",
   "nbconvert_exporter": "python",
   "pygments_lexer": "ipython3",
   "version": "3.9.20"
  }
 },
 "nbformat": 4,
 "nbformat_minor": 2
}
